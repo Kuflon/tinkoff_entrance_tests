{
 "cells": [
  {
   "cell_type": "code",
   "execution_count": 1,
   "metadata": {},
   "outputs": [],
   "source": [
    "import pandas as pd\n",
    "\n",
    "dataset = pd.read_csv('new.csv', usecols=['date', 'time', 'price'])"
   ]
  },
  {
   "cell_type": "code",
   "execution_count": 2,
   "metadata": {},
   "outputs": [
    {
     "data": {
      "text/html": [
       "<div>\n",
       "<style scoped>\n",
       "    .dataframe tbody tr th:only-of-type {\n",
       "        vertical-align: middle;\n",
       "    }\n",
       "\n",
       "    .dataframe tbody tr th {\n",
       "        vertical-align: top;\n",
       "    }\n",
       "\n",
       "    .dataframe thead th {\n",
       "        text-align: right;\n",
       "    }\n",
       "</style>\n",
       "<table border=\"1\" class=\"dataframe\">\n",
       "  <thead>\n",
       "    <tr style=\"text-align: right;\">\n",
       "      <th></th>\n",
       "      <th>date</th>\n",
       "      <th>time</th>\n",
       "      <th>price</th>\n",
       "    </tr>\n",
       "  </thead>\n",
       "  <tbody>\n",
       "    <tr>\n",
       "      <th>0</th>\n",
       "      <td>20150105</td>\n",
       "      <td>100100</td>\n",
       "      <td>1064.0</td>\n",
       "    </tr>\n",
       "    <tr>\n",
       "      <th>1</th>\n",
       "      <td>20150105</td>\n",
       "      <td>100200</td>\n",
       "      <td>1064.0</td>\n",
       "    </tr>\n",
       "    <tr>\n",
       "      <th>2</th>\n",
       "      <td>20150105</td>\n",
       "      <td>100300</td>\n",
       "      <td>1064.0</td>\n",
       "    </tr>\n",
       "    <tr>\n",
       "      <th>3</th>\n",
       "      <td>20150105</td>\n",
       "      <td>100400</td>\n",
       "      <td>1064.0</td>\n",
       "    </tr>\n",
       "    <tr>\n",
       "      <th>4</th>\n",
       "      <td>20150105</td>\n",
       "      <td>100500</td>\n",
       "      <td>1064.0</td>\n",
       "    </tr>\n",
       "    <tr>\n",
       "      <th>...</th>\n",
       "      <td>...</td>\n",
       "      <td>...</td>\n",
       "      <td>...</td>\n",
       "    </tr>\n",
       "    <tr>\n",
       "      <th>262103</th>\n",
       "      <td>20161230</td>\n",
       "      <td>183800</td>\n",
       "      <td>1248.5</td>\n",
       "    </tr>\n",
       "    <tr>\n",
       "      <th>262104</th>\n",
       "      <td>20161230</td>\n",
       "      <td>183900</td>\n",
       "      <td>1248.5</td>\n",
       "    </tr>\n",
       "    <tr>\n",
       "      <th>262105</th>\n",
       "      <td>20161230</td>\n",
       "      <td>184000</td>\n",
       "      <td>1248.5</td>\n",
       "    </tr>\n",
       "    <tr>\n",
       "      <th>262106</th>\n",
       "      <td>20161230</td>\n",
       "      <td>184600</td>\n",
       "      <td>1247.5</td>\n",
       "    </tr>\n",
       "    <tr>\n",
       "      <th>262107</th>\n",
       "      <td>20161230</td>\n",
       "      <td>184900</td>\n",
       "      <td>1247.5</td>\n",
       "    </tr>\n",
       "  </tbody>\n",
       "</table>\n",
       "<p>262108 rows × 3 columns</p>\n",
       "</div>"
      ],
      "text/plain": [
       "            date    time   price\n",
       "0       20150105  100100  1064.0\n",
       "1       20150105  100200  1064.0\n",
       "2       20150105  100300  1064.0\n",
       "3       20150105  100400  1064.0\n",
       "4       20150105  100500  1064.0\n",
       "...          ...     ...     ...\n",
       "262103  20161230  183800  1248.5\n",
       "262104  20161230  183900  1248.5\n",
       "262105  20161230  184000  1248.5\n",
       "262106  20161230  184600  1247.5\n",
       "262107  20161230  184900  1247.5\n",
       "\n",
       "[262108 rows x 3 columns]"
      ]
     },
     "execution_count": 2,
     "metadata": {},
     "output_type": "execute_result"
    }
   ],
   "source": [
    "dataset"
   ]
  },
  {
   "cell_type": "code",
   "execution_count": 3,
   "metadata": {},
   "outputs": [
    {
     "data": {
      "image/png": "[encoded data removed]",
      "text/plain": [
       "<Figure size 432x288 with 1 Axes>"
      ]
     },
     "metadata": {
      "needs_background": "light"
     },
     "output_type": "display_data"
    }
   ],
   "source": [
    "import matplotlib.pyplot as plt\n",
    "\n",
    "price = dataset['price']\n",
    "\n",
    "plt.plot(price)\n",
    "plt.show()"
   ]
  },
  {
   "cell_type": "code",
   "execution_count": 4,
   "metadata": {},
   "outputs": [],
   "source": [
    "import numpy as np\n",
    "\n",
    "class Money_up_machine:\n",
    "    \n",
    "    def __init__(self, low_perc, high_perc, time_window, budget):\n",
    "        self.low_perc = low_perc\n",
    "        self.high_perc = high_perc\n",
    "        self.time_window = time_window\n",
    "        self.budget = budget\n",
    "        self.start_budget = budget\n",
    "        self.memory = []\n",
    "        self.shares_number = 0\n",
    "        self.last_bought_price = 0\n",
    "        \n",
    "    def fit(self, date, time, price):\n",
    "        min_cur_price = 0\n",
    "        max_cur_price = 0\n",
    "        \n",
    "        window_space = np.zeros(self.time_window)\n",
    "        \n",
    "        for itr in range(self.time_window, len(price)):\n",
    "            \n",
    "            window_space = price[itr-self.time_window:itr] #move window\n",
    "            \n",
    "            min_cur_price = np.min(window_space)\n",
    "            max_cur_price = np.max(window_space)\n",
    "                \n",
    "            perc_change_min = window_space[itr-1]*100/min_cur_price - 100 # percentage of change\n",
    "            perc_change_max = window_space[itr-1]*100/max_cur_price - 100\n",
    "            \n",
    "            #tip not to take bad percantage chance\n",
    "            if perc_change_max > -1:       \n",
    "                perc_change = perc_change_min\n",
    "            else:\n",
    "                perc_change = perc_change_max\n",
    "                \n",
    "\n",
    "            if np.sign(perc_change) > 0 and perc_change >= self.high_perc and self.shares_number > 0:        \n",
    "                self.sell_all(itr, price[itr], date[itr], time[itr])\n",
    "                   \n",
    "            elif np.sign(perc_change) < 0 and perc_change <= self.low_perc and self.budget >= price[itr]:\n",
    "                self.buy_all(itr, price[itr], date[itr], time[itr])\n",
    "                \n",
    "            if itr == len(price)-1 and self.shares_number > 0:\n",
    "                self.sell_all(itr, price[itr], date[itr], time[itr])\n",
    "                \n",
    "                \n",
    "    def buy_all(self, itr, price, date, time):        \n",
    "        while self.budget > price:\n",
    "            self.shares_number += 1\n",
    "            self.budget -= price\n",
    "            \n",
    "        self.last_bought_price = price\n",
    "        \n",
    "        date = str(date)\n",
    "        print(f'Date: {date[:4]}-{date[4:6]}-{date[6:]},\\\n",
    "        Bought: {self.shares_number},\\\n",
    "        your budget: {self.budget}\\n')\n",
    "        \n",
    "        cur_archieve = {'iter':itr,\n",
    "                        'shares_num':self.shares_number,\n",
    "                        'budget':self.budget,\n",
    "                        'date':date,\n",
    "                        'price':price,\n",
    "                        'time':time,\n",
    "                        'action':'buy'}\n",
    "        \n",
    "        self.memory.append(cur_archieve)\n",
    "            \n",
    "    \n",
    "    def sell_all(self, itr, price, date, time):\n",
    "        self.budget += price * self.shares_number\n",
    "        \n",
    "        date = str(date)\n",
    "        \n",
    "        print(f'Date: {date[:4]}-{date[4:6]}-{date[6:]},\\\n",
    "        Sold: {self.shares_number},\\\n",
    "        Difference: {price - self.last_bought_price},\\\n",
    "        your budget: {self.budget}\\n')\n",
    "        \n",
    "        self.shares_number = 0\n",
    "        \n",
    "        cur_archieve = {'iter':itr,\n",
    "                        'shares_num':self.shares_number,\n",
    "                        'budget':self.budget,\n",
    "                        'price':price,\n",
    "                        'date':date,\n",
    "                        'time':time,\n",
    "                        'action':'sold'}\n",
    "        \n",
    "        \n",
    "        self.memory.append(cur_archieve)\n",
    "            \n",
    "    \n",
    "    def report(self, price):\n",
    "        plt.plot(price)\n",
    "        \n",
    "        for i in range(len(self.memory)):\n",
    "            if self.memory[i]['action'] == 'sold':\n",
    "                plt.scatter(self.memory[i]['iter'], self.memory[i]['price'], color='red', s=40)\n",
    "            else:\n",
    "                plt.scatter(self.memory[i]['iter'], self.memory[i]['price'], color='green', s=40)\n",
    "            \n",
    "        plt.show()"
   ]
  },
  {
   "cell_type": "markdown",
   "metadata": {},
   "source": [
    "Смысл стратегии заключается в том, что есть временное окно, в промежутке которого алгоритм смотрит изменение цены акции в процентах. \n",
    "low_perc - нижний порог падения акций, после которого считается что нужно покупать акции; \n",
    "high_perc - верхний порог роста акций, после которого считается что нужно продавать акции."
   ]
  },
  {
   "cell_type": "code",
   "execution_count": 5,
   "metadata": {},
   "outputs": [
    {
     "name": "stdout",
     "output_type": "stream",
     "text": [
      "Date: 2015-03-06,        Bought: 2,        your budget: 78.0\n",
      "\n",
      "Date: 2015-04-21,        Sold: 2,        Difference: 133.0,        your budget: 2266.0\n",
      "\n",
      "Date: 2015-08-24,        Bought: 3,        your budget: 37.0\n",
      "\n",
      "Date: 2015-10-27,        Sold: 3,        Difference: 138.0,        your budget: 2680.0\n",
      "\n",
      "Date: 2016-01-20,        Bought: 2,        your budget: 823.5999999999999\n",
      "\n",
      "Date: 2016-04-28,        Sold: 2,        Difference: 323.29999999999995,        your budget: 3326.6\n",
      "\n",
      "Date: 2016-10-17,        Bought: 2,        your budget: 956.5999999999999\n",
      "\n",
      "Date: 2016-12-30,        Sold: 2,        Difference: 62.5,        your budget: 3451.6\n",
      "\n"
     ]
    },
    {
     "data": {
      "image/png": "[encoded data removed]",
      "text/plain": [
       "<Figure size 432x288 with 1 Axes>"
      ]
     },
     "metadata": {
      "needs_background": "light"
     },
     "output_type": "display_data"
    }
   ],
   "source": [
    "#Green - bought\n",
    "#Red   - sold\n",
    "\n",
    "mum = Money_up_machine(low_perc=-20, high_perc=28, time_window=20000, budget=2000)\n",
    "mum.fit(dataset['date'], dataset['time'], dataset['price'])\n",
    "mum.report(price)"
   ]
  },
  {
   "cell_type": "code",
   "execution_count": null,
   "metadata": {},
   "outputs": [],
   "source": []
  }
 ],
 "metadata": {
  "kernelspec": {
   "display_name": "Python 3",
   "language": "python",
   "name": "python3"
  },
  "language_info": {
   "codemirror_mode": {
    "name": "ipython",
    "version": 3
   },
   "file_extension": ".py",
   "mimetype": "text/x-python",
   "name": "python",
   "nbconvert_exporter": "python",
   "pygments_lexer": "ipython3",
   "version": "3.8.5"
  }
 },
 "nbformat": 4,
 "nbformat_minor": 4
}
